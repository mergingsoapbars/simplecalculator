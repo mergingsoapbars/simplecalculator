{
 "cells": [
  {
   "cell_type": "code",
   "execution_count": 1,
   "metadata": {},
   "outputs": [],
   "source": [
    "from tkinter import *\n",
    "from tkinter import messagebox\n",
    "import math\n",
    "import tkinter.font as tkfont"
   ]
  },
  {
   "cell_type": "code",
   "execution_count": 2,
   "metadata": {},
   "outputs": [],
   "source": [
    "root = Tk()"
   ]
  },
  {
   "cell_type": "code",
   "execution_count": 3,
   "metadata": {},
   "outputs": [],
   "source": [
    "app_wdth = 600\n",
    "app_hght = 550\n",
    "\n",
    "scrn_wdth = root.winfo_screenwidth()\n",
    "scrn_hght = root.winfo_screenheight()\n",
    "\n",
    "x = (scrn_wdth / 2) - (app_wdth / 2)\n",
    "y = (scrn_hght / 2) - (app_hght / 2)"
   ]
  },
  {
   "cell_type": "code",
   "execution_count": 4,
   "metadata": {},
   "outputs": [
    {
     "data": {
      "text/plain": [
       "''"
      ]
     },
     "execution_count": 4,
     "metadata": {},
     "output_type": "execute_result"
    }
   ],
   "source": [
    "root.title(\"Simple calculator\")\n",
    "root.geometry(f\"{app_wdth}x{app_hght}+{int(x)}+{int(y)}\")\n",
    "root.configure(bg='#86BEAF')\n",
    "root.iconbitmap(\"icon.ico\")"
   ]
  },
  {
   "cell_type": "code",
   "execution_count": 5,
   "metadata": {},
   "outputs": [],
   "source": [
    "helv = tkfont.Font(family=\"Helvetica\", size=10)"
   ]
  },
  {
   "cell_type": "code",
   "execution_count": 6,
   "metadata": {},
   "outputs": [],
   "source": [
    "e = Entry(root, width=50, borderwidth=3, bd=5, justify=\"right\")\n",
    "e.grid(row=0, column=0, columnspan=3, padx=10, pady=15)"
   ]
  },
  {
   "cell_type": "code",
   "execution_count": 7,
   "metadata": {},
   "outputs": [],
   "source": [
    "e_1 = Entry(root, bg=\"#cfcfcf\")\n",
    "e_1.grid(row=8, column=1, pady=10, ipadx=15, sticky=\"\") "
   ]
  },
  {
   "cell_type": "code",
   "execution_count": 8,
   "metadata": {},
   "outputs": [],
   "source": [
    "def button_click(numeral):\n",
    "    current = e.get()\n",
    "    e.delete(0, END)\n",
    "    e.insert(0, str(current) + str(numeral))"
   ]
  },
  {
   "cell_type": "code",
   "execution_count": 9,
   "metadata": {},
   "outputs": [],
   "source": [
    "def button_clear():\n",
    "    e.delete(0, END)\n",
    "    e_1.delete(0, END)"
   ]
  },
  {
   "cell_type": "code",
   "execution_count": 10,
   "metadata": {},
   "outputs": [],
   "source": [
    "def button_add():\n",
    "    first_num = e.get()\n",
    "    global f_num\n",
    "    global math\n",
    "    math = \"addition\"\n",
    "    f_num = int(first_num)\n",
    "    e.delete(0, END)"
   ]
  },
  {
   "cell_type": "code",
   "execution_count": 11,
   "metadata": {},
   "outputs": [],
   "source": [
    "def button_subtract():\n",
    "    first_num = e.get()\n",
    "    global f_num\n",
    "    global math\n",
    "    math = \"subtraction\"\n",
    "    f_num = int(first_num)\n",
    "    e.delete(0, END)"
   ]
  },
  {
   "cell_type": "code",
   "execution_count": 12,
   "metadata": {},
   "outputs": [],
   "source": [
    "def button_multiply():\n",
    "    first_num = e.get()\n",
    "    global f_num\n",
    "    global math\n",
    "    math = \"multiplication\"\n",
    "    f_num = int(first_num)\n",
    "    e.delete(0, END)"
   ]
  },
  {
   "cell_type": "code",
   "execution_count": 13,
   "metadata": {},
   "outputs": [],
   "source": [
    "def button_divide():\n",
    "    first_num = e.get()\n",
    "    global f_num\n",
    "    global math\n",
    "    math = \"division\"\n",
    "    f_num = int(first_num)\n",
    "    e.delete(0, END)"
   ]
  },
  {
   "cell_type": "code",
   "execution_count": 14,
   "metadata": {},
   "outputs": [],
   "source": [
    "def button_power():\n",
    "    first_num = e.get()\n",
    "    global f_num\n",
    "    global math\n",
    "    math = \"power\"\n",
    "    f_num = int(first_num)\n",
    "    e.delete(0, END)"
   ]
  },
  {
   "cell_type": "code",
   "execution_count": 15,
   "metadata": {},
   "outputs": [],
   "source": [
    "def button_percent():\n",
    "    first_num = e.get()\n",
    "    global f_num\n",
    "    global math\n",
    "    math = \"percentage\"\n",
    "    f_num = int(first_num)\n",
    "    e.delete(0, END)"
   ]
  },
  {
   "cell_type": "code",
   "execution_count": 16,
   "metadata": {},
   "outputs": [],
   "source": [
    "def button_equals():\n",
    "    second_num = e.get()\n",
    "    e.delete(0, END)\n",
    "    if math == \"addition\":\n",
    "        e.insert(0, f_num + int(second_num))\n",
    "        e_1.insert(0, str(f_num) + \"+\" + str(second_num) + \"=\" + str(f_num + int(second_num)))\n",
    "    if math == \"multiplication\":\n",
    "        e.insert(0, f_num * int(second_num))\n",
    "        e_1.insert(0, str(f_num) + \"*\" + str(second_num) + \"=\" + str(f_num * int(second_num)))\n",
    "    if math == \"division\":\n",
    "        e.insert(0, f_num / int(second_num))\n",
    "        e_1.insert(0, str(f_num) + \"/\" + str(second_num) + \"=\" + str(f_num / int(second_num)))\n",
    "    if math == \"subtraction\":\n",
    "        e.insert(0, f_num - int(second_num))\n",
    "        e_1.insert(0, str(f_num) + \"−\" + str(second_num) + \"=\" + str(f_num - int(second_num)))\n",
    "    if math == \"power\":\n",
    "        e.insert(0, f_num ** int(second_num))\n",
    "        e_1.insert(0, str(f_num) + \"**\" + str(second_num) + \"=\" + str(f_num ** int(second_num)))\n",
    "    if math == \"percentage\":\n",
    "        e.insert(0, (f_num / int(second_num) * 100))\n",
    "        e_1.insert(0, str(f_num) + \" is \" + str((f_num / int(second_num)) * 100) + \"% of \" + str(second_num))"
   ]
  },
  {
   "cell_type": "code",
   "execution_count": 17,
   "metadata": {},
   "outputs": [],
   "source": [
    "button1 = Button(root, text=\"1\", bg=\"#dbefe1\", height=3, width=20, bd=5, command=lambda: button_click(1))\n",
    "button2 = Button(root, text=\"2\", bg=\"#dbefe1\", height=3, width=20, bd=5, command=lambda: button_click(2))\n",
    "button3 = Button(root, text=\"3\", bg=\"#dbefe1\", height=3, width=20, bd=5, command=lambda: button_click(3))\n",
    "button4 = Button(root, text=\"4\", bg=\"#dbefe1\", height=3, width=20, bd=5, command=lambda: button_click(4))\n",
    "button5 = Button(root, text=\"5\", bg=\"#dbefe1\", height=3, width=20, bd=5, command=lambda: button_click(5))\n",
    "button6 = Button(root, text=\"6\", bg=\"#dbefe1\", height=3, width=20, bd=5, command=lambda: button_click(6))\n",
    "button7 = Button(root, text=\"7\", bg=\"#dbefe1\", height=3, width=20, bd=5, command=lambda: button_click(7))\n",
    "button8 = Button(root, text=\"8\", bg=\"#dbefe1\", height=3, width=20, bd=5, command=lambda: button_click(8))\n",
    "button9 = Button(root, text=\"9\", bg=\"#dbefe1\", height=3, width=20, bd=5, command=lambda: button_click(9))\n",
    "button0 = Button(root, text=\"0\", bg=\"#dbefe1\", height=3, width=20, bd=5, command=lambda: button_click(0))\n",
    "\n",
    "buttona = Button(root, text=\"+\", bg=\"#dbefe1\", height=3, width=20, bd=5, command=lambda: button_add())\n",
    "buttons = Button(root, text=\"−\", bg=\"#dbefe1\", height=3, width=20, bd=5, command=lambda: button_subtract())\n",
    "buttonm = Button(root, text=\"*\", bg=\"#dbefe1\", height=3, width=20, bd=5, command=lambda: button_multiply())\n",
    "buttond = Button(root, text=\"/\", bg=\"#dbefe1\", height=3, width=20, bd=5, command=lambda: button_divide())\n",
    "buttonp = Button(root, text=\"**\", bg=\"#dbefe1\", height=3, width=20, bd=5, command=lambda: button_power())\n",
    "buttonq = Button(root, text=\"%\", bg=\"#dbefe1\", height=3, width=20, bd=5, command=lambda: button_percent())\n",
    "\n",
    "buttone = Button(root, text=\"=\", bg=\"#b6d4bf\", height=3, width=20, bd=5, command=lambda: button_equals())\n",
    "buttonc = Button(root, text=\"Clear\", bg=\"#b6d4bf\", height=3, width=20, bd=5, command=lambda: button_clear())\n",
    "\n",
    "button1['font'] = helv\n",
    "button2['font'] = helv\n",
    "button3['font'] = helv\n",
    "button4['font'] = helv\n",
    "button5['font'] = helv\n",
    "button6['font'] = helv\n",
    "button7['font'] = helv\n",
    "button8['font'] = helv\n",
    "button9['font'] = helv\n",
    "button0['font'] = helv\n",
    "buttona['font'] = helv\n",
    "buttone['font'] = helv\n",
    "buttonc['font'] = helv\n",
    "buttons['font'] = helv\n",
    "buttonm['font'] = helv\n",
    "buttond['font'] = helv\n",
    "buttonp['font'] = helv\n",
    "buttonq['font'] = helv"
   ]
  },
  {
   "cell_type": "code",
   "execution_count": 18,
   "metadata": {},
   "outputs": [],
   "source": [
    "button1.grid(row=3, column=0, pady=2, sticky=\"\")\n",
    "button2.grid(row=3, column=1, pady=2, sticky=\"\")\n",
    "button3.grid(row=3, column=2, pady=2, sticky=\"\")\n",
    "button4.grid(row=2, column=0, pady=2, sticky=\"\")\n",
    "button5.grid(row=2, column=1, pady=2, sticky=\"\")\n",
    "button6.grid(row=2, column=2, pady=2, sticky=\"\")\n",
    "button7.grid(row=1, column=0, pady=2, sticky=\"\")\n",
    "button8.grid(row=1, column=1, pady=2, sticky=\"\")\n",
    "button9.grid(row=1, column=2, pady=2, sticky=\"\")\n",
    "button0.grid(row=4, column=0, pady=2, sticky=\"\")\n",
    "buttona.grid(row=4, column=1, pady=2, sticky=\"\")\n",
    "buttons.grid(row=4, column=2, pady=2, sticky=\"\")\n",
    "buttonm.grid(row=5, column=0, pady=2, sticky=\"\")\n",
    "buttond.grid(row=5, column=1, pady=2, sticky=\"\")\n",
    "buttonp.grid(row=5, column=2, pady=2, sticky=\"\")\n",
    "\n",
    "buttonq.grid(row=6, column=0, pady=2, sticky=\"\")\n",
    "buttone.grid(row=6, column=2, pady=2, sticky=\"\")\n",
    "buttonc.grid(row=6, column=1, pady=2, sticky=\"\")\n",
    "\n",
    "root.grid_columnconfigure((0, 2), weight=1)"
   ]
  },
  {
   "cell_type": "code",
   "execution_count": 19,
   "metadata": {},
   "outputs": [],
   "source": [
    "def openwindow():\n",
    "    top = Toplevel()\n",
    "    top.title(\"Converter\")\n",
    "    top.geometry(\"425x500\")\n",
    "    top.configure(bg='#86BEAF')\n",
    "        \n",
    "    e_2 = Entry(top, width=20, borderwidth=3)\n",
    "    e_2.grid(row=1, column=1, padx=10, pady=20)\n",
    "    \n",
    "    e_3 = Entry(top, width=20, borderwidth=3)\n",
    "    e_3.grid(row=2, column=1, padx=10, pady=20)\n",
    "    \n",
    "    e_4 = Entry(top, width=20, borderwidth=3)\n",
    "    e_4.grid(row=3, column=1, padx=10, pady=20)\n",
    "    \n",
    "    e_5 = Entry(top, width=20, borderwidth=3)\n",
    "    e_5.grid(row=4, column=1, padx=10, pady=20)\n",
    "    \n",
    "    e_6 = Entry(top, width=20, borderwidth=3)\n",
    "    e_6.grid(row=5, column=1, padx=10, pady=20)\n",
    "    \n",
    "    e_7 = Entry(top, width=20, borderwidth=3)\n",
    "    e_7.grid(row=6, column=1, padx=10, pady=20)\n",
    "    \n",
    "    def button_convert():\n",
    "        get = e_2.get()\n",
    "        num = int(get)\n",
    "        conv = num * 2.205\n",
    "        e_2.delete(0, END)\n",
    "        e_2.insert(0, conv)\n",
    "        e_8.insert(0, str(num) + \" kg is \" + str(conv) + \" lb.\")\n",
    "\n",
    "    button_conv = Button(top, text=\"Convert kg to lb\", bg=\"#dbefe1\", height=1, width=30, bd=5, command=lambda: button_convert())\n",
    "    button_conv.grid(row=1, column=2, pady=2)\n",
    "    button_conv['font'] = helv\n",
    "\n",
    "    def button_convert_2():\n",
    "        get = e_3.get()\n",
    "        num = int(get)\n",
    "        conv = num / 2.205\n",
    "        e_3.delete(0, END)\n",
    "        e_3.insert(0, conv)\n",
    "        e_8.insert(0, str(num) + \" lb is \" + str(conv) + \" kg.\")\n",
    "\n",
    "    button_conv = Button(top, text=\"Convert lb to kg\", bg=\"#dbefe1\", height=1, width=30, bd=5, command=lambda: button_convert_2())\n",
    "    button_conv.grid(row=2, column=2, pady=2)\n",
    "    button_conv['font'] = helv\n",
    "    \n",
    "    def button_convert_3():\n",
    "        get = e_4.get()\n",
    "        num = int(get)\n",
    "        conv = (num * 1.8) + 32\n",
    "        e_4.delete(0, END)\n",
    "        e_4.insert(0, conv)\n",
    "        e_8.insert(0, str(num) + \"° Celsius is \" + str(conv) + \"° Fahrenheit.\")\n",
    "\n",
    "    button_conv = Button(top, text=\"Convert Celcius to Fahrenheit\", bg=\"#dbefe1\", height=1, width=30, bd=5, command=lambda: button_convert_3())\n",
    "    button_conv.grid(row=3, column=2, pady=2)\n",
    "    button_conv['font'] = helv\n",
    "\n",
    "    def button_convert_4():\n",
    "        get = e_5.get()\n",
    "        num = int(get)\n",
    "        conv = (num - 32) * 0.5556\n",
    "        e_5.delete(0, END)\n",
    "        e_5.insert(0, conv)\n",
    "        e_8.insert(0, str(num) + \"° Fahrenheit is \" + str(conv) + \"° Celsius.\")\n",
    "\n",
    "    button_conv = Button(top, text=\"Convert Fahrenheit to Celsius\", bg=\"#dbefe1\", height=1, width=30, bd=5, command=lambda: button_convert_4())\n",
    "    button_conv.grid(row=4, column=2, pady=2)\n",
    "    button_conv['font'] = helv\n",
    "    \n",
    "    def button_convert_5():\n",
    "        get = e_6.get()\n",
    "        num = int(get)\n",
    "        conv = num * 2.54\n",
    "        e_6.delete(0, END)\n",
    "        e_6.insert(0, conv)\n",
    "        e_8.insert(0, str(num) + \" inches is \" + str(conv) + \" cm.\")\n",
    "\n",
    "    button_conv = Button(top, text=\"Convert inches to cm\", bg=\"#dbefe1\", height=1, width=30, bd=5, command=lambda: button_convert_5())\n",
    "    button_conv.grid(row=5, column=2, pady=2)\n",
    "    button_conv['font'] = helv\n",
    "\n",
    "    def button_convert_6():\n",
    "        get = e_7.get()\n",
    "        num = int(get)\n",
    "        conv = num / 2.54\n",
    "        e_7.delete(0, END)\n",
    "        e_7.insert(0, conv)\n",
    "        e_8.insert(0, str(num) + \" cm is \" + str(conv) + \" inches.\")\n",
    "\n",
    "    button_conv = Button(top, text=\"Convert cm to inches\", bg=\"#dbefe1\", height=1, width=30, bd=5, command=lambda: button_convert_6())\n",
    "    button_conv.grid(row=6, column=2, pady=2)\n",
    "    button_conv['font'] = helv\n",
    "    \n",
    "    e_8 = Entry(top, width=40, borderwidth=3, bg=\"#cfcfcf\")\n",
    "    e_8.grid(row=7, column=2, padx=10, pady=20)\n",
    "    \n",
    "    def clearfields():\n",
    "        e_2.delete(0, END)\n",
    "        e_3.delete(0, END)\n",
    "        e_4.delete(0, END)\n",
    "        e_5.delete(0, END)\n",
    "        e_6.delete(0, END)\n",
    "        e_7.delete(0, END)\n",
    "        e_8.delete(0, END)\n",
    "        \n",
    "    button_clearfield = Button(top, text=\"Clear fields\", bd=5, command = lambda: clearfields())\n",
    "    button_clearfield.grid(row=7, column=1)\n",
    "             \n",
    "openbutton = Button(root, text=\"Open the converter\", bd=5, command = openwindow)\n",
    "openbutton.grid(row=8,column=0)\n",
    "\n",
    "closebutton = Button(root, text=\"Close the program\", bd=5, command = root.destroy)\n",
    "closebutton.grid(row=8,column=2)"
   ]
  },
  {
   "cell_type": "code",
   "execution_count": 20,
   "metadata": {},
   "outputs": [],
   "source": [
    "root.mainloop()"
   ]
  }
 ],
 "metadata": {
  "kernelspec": {
   "display_name": "Python 3",
   "language": "python",
   "name": "python3"
  },
  "language_info": {
   "codemirror_mode": {
    "name": "ipython",
    "version": 3
   },
   "file_extension": ".py",
   "mimetype": "text/x-python",
   "name": "python",
   "nbconvert_exporter": "python",
   "pygments_lexer": "ipython3",
   "version": "3.8.3"
  }
 },
 "nbformat": 4,
 "nbformat_minor": 4
}
